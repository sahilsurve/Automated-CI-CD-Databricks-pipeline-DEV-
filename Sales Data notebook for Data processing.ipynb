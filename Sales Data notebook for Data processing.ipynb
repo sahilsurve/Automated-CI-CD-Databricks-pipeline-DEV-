{
 "cells": [
  {
   "cell_type": "code",
   "execution_count": 0,
   "metadata": {
    "application/vnd.databricks.v1+cell": {
     "cellMetadata": {},
     "inputWidgets": {},
     "nuid": "eb9c7846-115a-4d8b-83f9-2c5d8c0dd092",
     "showTitle": false,
     "tableResultSettingsMap": {},
     "title": ""
    }
   },
   "outputs": [],
   "source": [
    "# Import libraries\n",
    "from pyspark.sql.types import StructType, StructField, StringType, IntegerType, DoubleType, DateType\n",
    "from pyspark.sql import Row\n",
    "from datetime import datetime\n",
    "from pyspark.sql.functions import year, month, col, expr\n",
    "\n",
    "# Define schema\n",
    "sales_schema = StructType([\n",
    "    StructField(\"OrderID\", StringType(), False),\n",
    "    StructField(\"OrderDate\", DateType(), False),\n",
    "    StructField(\"Region\", StringType(), True),\n",
    "    StructField(\"Product\", StringType(), False),\n",
    "    StructField(\"Category\", StringType(), False),\n",
    "    StructField(\"Price\", DoubleType(), False),\n",
    "    StructField(\"Quantity\", IntegerType(), False)\n",
    "])\n",
    "\n",
    "# Sample sales data\n",
    "sales_data = [\n",
    "    (\"ORD009\", datetime(2022, 1, 10), \"West\", \"iPhone 15\", \"Electronics\", 1099.99, 3),\n",
    "    (\"ORD010\", datetime(2022, 2, 18), \"East\", \"MacBook Pro\", \"Electronics\", 1999.99, 1),\n",
    "    (\"ORD011\", datetime(2022, 3, 6), \"South\", \"Ergonomic Chair\", \"Furniture\", 179.99, 2),\n",
    "    (\"ORD012\", datetime(2022, 4, 20), \"North\", \"4K Monitor\", \"Electronics\", 329.99, 2),\n",
    "    (\"ORD013\", datetime(2022, 5, 27), \"West\", \"Standing Desk\", \"Furniture\", 499.99, 1),\n",
    "    (\"ORD014\", datetime(2022, 6, 15), \"East\", \"iPad Pro\", \"Electronics\", 899.99, 2),\n",
    "    (\"ORD015\", datetime(2022, 7, 23), \"South\", \"Corner Bookshelf\", \"Furniture\", 249.99, 3),\n",
    "    (\"ORD016\", datetime(2022, 8, 12), \"North\", \"Laser Printer\", \"Electronics\", 199.99, 1),\n",
    "    (\"ORD001\", datetime(2023, 1, 15), \"West\", \"iPhone 14\", \"Electronics\", 999.99, 2),\n",
    "    (\"ORD002\", datetime(2023, 2, 20), \"East\", \"MacBook Air\", \"Electronics\", 1199.49, 1),\n",
    "    (\"ORD003\", datetime(2023, 3, 5), \"South\", \"Desk Chair\", \"Furniture\", 149.99, 4),\n",
    "    (\"ORD004\", datetime(2023, 4, 17), \"North\", \"Monitor\", \"Electronics\", 249.99, 2),\n",
    "    (\"ORD005\", datetime(2023, 5, 30), \"West\", \"Office Desk\", \"Furniture\", 399.99, 1),\n",
    "    (\"ORD006\", datetime(2023, 6, 12), \"East\", \"iPad\", \"Electronics\", 499.99, 3),\n",
    "    (\"ORD007\", datetime(2023, 7, 25), \"South\", \"Bookshelf\", \"Furniture\", 199.99, 2),\n",
    "    (\"ORD008\", datetime(2023, 8, 8), \"North\", \"Printer\", \"Electronics\", 149.49, 1),\n",
    "    (\"ORD009\", datetime(2024, 1, 10), \"West\", \"iPhone 15\", \"Electronics\", 1099.99, 3),\n",
    "    (\"ORD010\", datetime(2024, 2, 18), \"East\", \"MacBook Pro\", \"Electronics\", 1999.99, 1),\n",
    "    (\"ORD011\", datetime(2024, 3, 6), \"South\", \"Ergonomic Chair\", \"Furniture\", 179.99, 2),\n",
    "    (\"ORD012\", datetime(2024, 4, 20), \"North\", \"4K Monitor\", \"Electronics\", 329.99, 2),\n",
    "    (\"ORD013\", datetime(2024, 5, 27), \"West\", \"Standing Desk\", \"Furniture\", 499.99, 1),\n",
    "    (\"ORD014\", datetime(2024, 6, 15), \"East\", \"iPad Pro\", \"Electronics\", 899.99, 2),\n",
    "    (\"ORD015\", datetime(2024, 7, 23), \"South\", \"Corner Bookshelf\", \"Furniture\", 249.99, 3),\n",
    "    (\"ORD016\", datetime(2024, 8, 12), \"North\", \"Laser Printer\", \"Electronics\", 199.99, 1),\n",
    "    (\"ORD009\", datetime(2025, 1, 10), \"West\", \"iPhone 15\", \"Electronics\", 1099.99, 3),\n",
    "\t(\"ORD010\", datetime(2025, 2, 18), \"East\", \"MacBook Pro\", \"Electronics\", 1999.99, 1),\n",
    "\t(\"ORD011\", datetime(2025, 3, 6), \"South\", \"Ergonomic Chair\", \"Furniture\", 179.99, 2),\n",
    "\t(\"ORD012\", datetime(2025, 4, 20), \"North\", \"4K Monitor\", \"Electronics\", 329.99, 2),\n",
    "\t(\"ORD013\", datetime(2025, 5, 27), \"West\", \"Standing Desk\", \"Furniture\", 499.99, 1),\n",
    "\t(\"ORD014\", datetime(2025, 6, 15), \"East\", \"iPad Pro\", \"Electronics\", 899.99, 2),\n",
    "\t(\"ORD015\", datetime(2025, 7, 23), \"South\", \"Corner Bookshelf\", \"Furniture\", 249.99, 3),\n",
    "\t(\"ORD016\", datetime(2025, 8, 12), \"North\", \"Laser Printer\", \"Electronics\", 199.99, 1)\n",
    "\n",
    "]\n",
    "\n",
    "# Create DataFrame\n",
    "sales_df = spark.createDataFrame(sales_data, schema=sales_schema)"
   ]
  },
  {
   "cell_type": "code",
   "execution_count": 0,
   "metadata": {
    "application/vnd.databricks.v1+cell": {
     "cellMetadata": {},
     "inputWidgets": {},
     "nuid": "9b122b6a-b3f3-4ba7-87a5-d0f5fd5d19a3",
     "showTitle": false,
     "tableResultSettingsMap": {},
     "title": ""
    }
   },
   "outputs": [],
   "source": [
    "# Transformations\n",
    "sales_transformed = (sales_df\n",
    "    .withColumn(\"Year\", year(col(\"OrderDate\")))\n",
    "    .withColumn(\"Month\", month(col(\"OrderDate\")))\n",
    "    .withColumn(\"SalesAmount\", expr(\"Price * Quantity\")))\n",
    "     "
   ]
  },
  {
   "cell_type": "code",
   "execution_count": 0,
   "metadata": {
    "application/vnd.databricks.v1+cell": {
     "cellMetadata": {},
     "inputWidgets": {},
     "nuid": "c12fbace-32c0-43c8-87b6-7d75809e3366",
     "showTitle": false,
     "tableResultSettingsMap": {},
     "title": ""
    }
   },
   "outputs": [],
   "source": [
    "# Aggregations\n",
    "sales_summary = (sales_transformed\n",
    "    .groupBy(\"Region\", \"Category\")\n",
    "    .sum(\"SalesAmount\")\n",
    "    .withColumnRenamed(\"sum(SalesAmount)\", \"TotalSales\")\n",
    "    .orderBy(\"Region\", \"Category\"))\n",
    "\n",
    "sales_summary.display()"
   ]
  },
  {
   "cell_type": "code",
   "execution_count": 0,
   "metadata": {
    "application/vnd.databricks.v1+cell": {
     "cellMetadata": {},
     "inputWidgets": {},
     "nuid": "ae204bf4-6035-4b08-92ab-b6e85fbc42c7",
     "showTitle": false,
     "tableResultSettingsMap": {},
     "title": ""
    }
   },
   "outputs": [],
   "source": [
    "# Save as Delta Table (overwrite mode)\n",
    "sales_transformed.write.format(\"delta\").mode(\"overwrite\").saveAsTable(\"\")"
   ]
  }
 ],
 "metadata": {
  "application/vnd.databricks.v1+notebook": {
   "computePreferences": null,
   "dashboards": [],
   "environmentMetadata": {
    "base_environment": "",
    "environment_version": "3"
   },
   "inputWidgetPreferences": null,
   "language": "python",
   "notebookMetadata": {
    "pythonIndentUnit": 4
   },
   "notebookName": "Sales Data notebook for Data processing",
   "widgets": {}
  },
  "language_info": {
   "name": "python"
  }
 },
 "nbformat": 4,
 "nbformat_minor": 0
}
